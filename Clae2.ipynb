{
  "nbformat": 4,
  "nbformat_minor": 0,
  "metadata": {
    "colab": {
      "name": "Clae2.ipynb",
      "provenance": [],
      "collapsed_sections": [],
      "authorship_tag": "ABX9TyMtAJYYG9jyNtpY+Yolb2x6",
      "include_colab_link": true
    },
    "kernelspec": {
      "name": "python3",
      "display_name": "Python 3"
    }
  },
  "cells": [
    {
      "cell_type": "markdown",
      "metadata": {
        "id": "view-in-github",
        "colab_type": "text"
      },
      "source": [
        "<a href=\"https://colab.research.google.com/github/AdrianVR199/clase2/blob/master/Clae2.ipynb\" target=\"_parent\"><img src=\"https://colab.research.google.com/assets/colab-badge.svg\" alt=\"Open In Colab\"/></a>"
      ]
    },
    {
      "cell_type": "markdown",
      "metadata": {
        "id": "w4P5ferGwPAv",
        "colab_type": "text"
      },
      "source": [
        "Importar\n"
      ]
    },
    {
      "cell_type": "code",
      "metadata": {
        "id": "Tmq4DSNLsc2G",
        "colab_type": "code",
        "colab": {}
      },
      "source": [
        "import cv2  \n",
        "import tensorflow\n",
        "import torch\n",
        "import numpy as np"
      ],
      "execution_count": 0,
      "outputs": []
    },
    {
      "cell_type": "code",
      "metadata": {
        "id": "d5mUbcmRwOog",
        "colab_type": "code",
        "outputId": "ffbc5ff8-c091-402b-f74e-6f1f65f6930a",
        "colab": {
          "base_uri": "https://localhost:8080/",
          "height": 68
        }
      },
      "source": [
        "x=2\n",
        "print(\"la masacre musical\")\n",
        "y=0.0\n",
        "print(y)\n",
        "z=\"elegancia y maldad\"\n",
        "print(z)"
      ],
      "execution_count": 0,
      "outputs": [
        {
          "output_type": "stream",
          "text": [
            "la masacre musical\n",
            "0.0\n",
            "elegancia y maldad\n"
          ],
          "name": "stdout"
        }
      ]
    },
    {
      "cell_type": "code",
      "metadata": {
        "colab_type": "code",
        "outputId": "13de1c3d-cea6-428c-8c93-bfe2a2d2ad2a",
        "id": "dQyW7WTX0w0Y",
        "colab": {
          "base_uri": "https://localhost:8080/",
          "height": 51
        }
      },
      "source": [
        "l=[1,2,3,4,5]\n",
        "l1=[]\n",
        "print(l[-1])\n",
        "l[0]=199\n",
        "print(l)"
      ],
      "execution_count": 0,
      "outputs": [
        {
          "output_type": "stream",
          "text": [
            "5\n",
            "[199, 2, 3, 4, 5]\n"
          ],
          "name": "stdout"
        }
      ]
    },
    {
      "cell_type": "code",
      "metadata": {
        "id": "owv0aLAj0y2n",
        "colab_type": "code",
        "outputId": "dba996ad-facb-4d87-8c3c-1c50ecba658e",
        "colab": {
          "base_uri": "https://localhost:8080/",
          "height": 68
        }
      },
      "source": [
        "l.append(-5)\n",
        "print(l)\n",
        "del l[0]\n",
        "print()\n",
        "\n",
        "l.remove(-5)\n",
        "print(l)"
      ],
      "execution_count": 0,
      "outputs": [
        {
          "output_type": "stream",
          "text": [
            "[199, 2, 3, 4, 5, -5]\n",
            "\n",
            "[2, 3, 4, 5]\n"
          ],
          "name": "stdout"
        }
      ]
    },
    {
      "cell_type": "code",
      "metadata": {
        "id": "iM1hfbc_2JgG",
        "colab_type": "code",
        "outputId": "cc5f9fab-7b12-479b-ab0e-ff9e0fc2b411",
        "colab": {
          "base_uri": "https://localhost:8080/",
          "height": 34
        }
      },
      "source": [
        "def suma(a,b):\n",
        "  s=a+b\n",
        "  return s\n",
        "suma(5,7) \n"
      ],
      "execution_count": 0,
      "outputs": [
        {
          "output_type": "execute_result",
          "data": {
            "text/plain": [
              "12"
            ]
          },
          "metadata": {
            "tags": []
          },
          "execution_count": 35
        }
      ]
    },
    {
      "cell_type": "code",
      "metadata": {
        "id": "7WcKG2rX359r",
        "colab_type": "code",
        "outputId": "739ac010-75ad-4c8d-87ef-9811c43fbd07",
        "colab": {
          "base_uri": "https://localhost:8080/",
          "height": 34
        }
      },
      "source": [
        "def perimetro(l):\n",
        "  p=l*4\n",
        "  return p\n",
        "perimetro(2)\n",
        "\n",
        "def perimetro1(l,l2):\n",
        "  p=(l*2)+(l2*2)\n",
        "  return p\n",
        "perimetro1(2,3)"
      ],
      "execution_count": 0,
      "outputs": [
        {
          "output_type": "execute_result",
          "data": {
            "text/plain": [
              "10"
            ]
          },
          "metadata": {
            "tags": []
          },
          "execution_count": 52
        }
      ]
    },
    {
      "cell_type": "code",
      "metadata": {
        "id": "ndxqi43t4kx7",
        "colab_type": "code",
        "outputId": "8ae963a7-bbeb-42d8-87b8-d656e410a7a1",
        "colab": {
          "base_uri": "https://localhost:8080/",
          "height": 34
        }
      },
      "source": [
        "def area(l1):\n",
        "  a=l1**2\n",
        "  return a\n",
        "area(2)  \n",
        "\n",
        "def area1(l1,l2):\n",
        "  a=l1*l2\n",
        "  return a\n",
        "area1(2,4) "
      ],
      "execution_count": 0,
      "outputs": [
        {
          "output_type": "execute_result",
          "data": {
            "text/plain": [
              "8"
            ]
          },
          "metadata": {
            "tags": []
          },
          "execution_count": 53
        }
      ]
    },
    {
      "cell_type": "code",
      "metadata": {
        "id": "hFM_VtyP5mPv",
        "colab_type": "code",
        "outputId": "450eba42-e14b-4a7f-821b-c3e5fe688885",
        "colab": {
          "base_uri": "https://localhost:8080/",
          "height": 34
        }
      },
      "source": [
        "def cuadrado(l):\n",
        "  pe=perimetro(l)\n",
        "  ar=area(l)\n",
        "  return pe,ar\n",
        "cuadrado(3)  \n",
        "\n",
        "def rectangulo(l1,l2):\n",
        " \n",
        "  return perimetro1(l1,l2),area1(l1,l2)\n",
        "rectangulo(3,2) \n",
        "\n",
        "\n",
        "def vago():\n",
        "  pass\n"
      ],
      "execution_count": 0,
      "outputs": [
        {
          "output_type": "execute_result",
          "data": {
            "text/plain": [
              "(10, 6)"
            ]
          },
          "metadata": {
            "tags": []
          },
          "execution_count": 58
        }
      ]
    },
    {
      "cell_type": "markdown",
      "metadata": {
        "id": "6Bpnfj9A3GeP",
        "colab_type": "text"
      },
      "source": [
        "seleccionar todo. chift+tab para pegarlo todo y tab para sacarlo un espacio"
      ]
    }
  ]
}